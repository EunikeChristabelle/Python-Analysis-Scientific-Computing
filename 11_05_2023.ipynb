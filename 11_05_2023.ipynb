{
  "nbformat": 4,
  "nbformat_minor": 0,
  "metadata": {
    "colab": {
      "provenance": [],
      "authorship_tag": "ABX9TyMA/apS74Det3/DdDl2Idhc",
      "include_colab_link": true
    },
    "kernelspec": {
      "name": "python3",
      "display_name": "Python 3"
    },
    "language_info": {
      "name": "python"
    }
  },
  "cells": [
    {
      "cell_type": "markdown",
      "metadata": {
        "id": "view-in-github",
        "colab_type": "text"
      },
      "source": [
        "<a href=\"https://colab.research.google.com/github/EunikeChristabelle/Python---Scientific-Computing/blob/main/11_05_2023.ipynb\" target=\"_parent\"><img src=\"https://colab.research.google.com/assets/colab-badge.svg\" alt=\"Open In Colab\"/></a>"
      ]
    },
    {
      "cell_type": "code",
      "execution_count": null,
      "metadata": {
        "colab": {
          "base_uri": "https://localhost:8080/"
        },
        "id": "SrZTO1ZKgolA",
        "outputId": "f837d213-886d-425d-cab6-5b71df19c745"
      },
      "outputs": [
        {
          "output_type": "stream",
          "name": "stdout",
          "text": [
            "r1 =  1.4375\n",
            "f(r1) = 0.06640625\n",
            "f(r01) = -0.00042724609375\n"
          ]
        }
      ],
      "source": [
        "import numpy as np\n",
        "\n",
        "def my_bisection(f, a, b, tol):\n",
        "  if np.sign(f(a)) == np.sign(f(b)):\n",
        "    raise Exception(\"The scalars a and b do nont bound a root\")\n",
        "\n",
        "  m = (a + b)/2\n",
        "\n",
        "  if np.abs(f(m)) < tol:\n",
        "    return m\n",
        "  elif np.sign(f(a)) == np.sign(f(m)):\n",
        "    return my_bisection(f, m, b, tol)\n",
        "  elif np.sign(f(b)) == np.sign(f(m)):\n",
        "    return my_bisection(f, a, m, tol)\n",
        "\n",
        "f = lambda x: x**2 - 2\n",
        "r1 = my_bisection(f, 0, 2, 0.1)\n",
        "print(\"r1 = \", r1)\n",
        "r01 = my_bisection(f, 0, 2, 0.01)\n",
        "\n",
        "print(\"f(r1) =\", f(r1))\n",
        "print(\"f(r01) =\", f(r01))"
      ]
    },
    {
      "cell_type": "code",
      "source": [
        "import numpy as np\n",
        "f = lambda x: x**2 - 2\n",
        "f_prime = lambda x: 2*x\n",
        "newton_raphson = 1.4 - (f(1.4))/(f_prime(1.4))\n",
        "\n",
        "print(\"newtown_raphson =\", newton_raphson)\n",
        "print(\"sqrt(2)=\", np.sqrt(2))"
      ],
      "metadata": {
        "colab": {
          "base_uri": "https://localhost:8080/"
        },
        "id": "SNyyw857rxUu",
        "outputId": "adeaa503-c939-43d4-8c80-ad3ba0ac8389"
      },
      "execution_count": null,
      "outputs": [
        {
          "output_type": "stream",
          "name": "stdout",
          "text": [
            "newtown_raphson = 1.4142857142857144\n",
            "sqrt(2)= 1.4142135623730951\n"
          ]
        }
      ]
    },
    {
      "cell_type": "code",
      "source": [
        "def my_newton(f, df, x0, tol):\n",
        "  if abs(f(x0)) < tol:\n",
        "    return x0\n",
        "  else:\n",
        "    return my_newton(f, df, x0 - f(x0)/df(x0), tol)"
      ],
      "metadata": {
        "id": "uFqvV3gHuQ4m"
      },
      "execution_count": null,
      "outputs": []
    },
    {
      "cell_type": "code",
      "source": [
        "estimate = my_newton(f, f_prime, 1.5, 1e-6)\n",
        "print(\"estimate =\", estimate)\n",
        "print(\"sqrt(2)=\", np.sqrt(2))"
      ],
      "metadata": {
        "colab": {
          "base_uri": "https://localhost:8080/"
        },
        "id": "H76Pe_nhv237",
        "outputId": "2ca46a97-8bae-408e-e5d1-9685bb943e02"
      },
      "execution_count": null,
      "outputs": [
        {
          "output_type": "stream",
          "name": "stdout",
          "text": [
            "estimate = 1.4142135623746899\n",
            "sqrt(2)= 1.4142135623730951\n"
          ]
        }
      ]
    },
    {
      "cell_type": "code",
      "source": [],
      "metadata": {
        "id": "YRZmdb_cumVx"
      },
      "execution_count": null,
      "outputs": []
    }
  ]
}