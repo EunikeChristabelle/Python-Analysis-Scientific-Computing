{
  "nbformat": 4,
  "nbformat_minor": 0,
  "metadata": {
    "colab": {
      "provenance": [],
      "authorship_tag": "ABX9TyOu1D7tY3/9PC7rAqEaxaI4",
      "include_colab_link": true
    },
    "kernelspec": {
      "name": "python3",
      "display_name": "Python 3"
    },
    "language_info": {
      "name": "python"
    }
  },
  "cells": [
    {
      "cell_type": "markdown",
      "metadata": {
        "id": "view-in-github",
        "colab_type": "text"
      },
      "source": [
        "<a href=\"https://colab.research.google.com/github/EunikeChristabelle/Python---Scientific-Computing/blob/main/02_03_2023.ipynb\" target=\"_parent\"><img src=\"https://colab.research.google.com/assets/colab-badge.svg\" alt=\"Open In Colab\"/></a>"
      ]
    },
    {
      "cell_type": "code",
      "source": [
        "import numpy as np\n",
        "a = [[8 , 3, -3], [-2, -8, 5], [3, 5, 10]]\n",
        "# Find diagonal coefficients\n",
        "diag = np.diag(np.abs(a))\n",
        "#Find row sum without diagonal\n",
        "off_diag = np.sum(np.abs(a), axis=1) - diag\n",
        "print(diag)\n",
        "print (off_diag)\n",
        "if np.all(diag > off_diag):\n",
        "  print('matrix is diagonally dominant')\n",
        "else:\n",
        "  print('NOT diagonaly dominant')\n"
      ],
      "metadata": {
        "colab": {
          "base_uri": "https://localhost:8080/"
        },
        "id": "UhXLZsfRCa9S",
        "outputId": "40ee1ead-cb39-4e69-f227-68483ad65b26"
      },
      "execution_count": null,
      "outputs": [
        {
          "output_type": "stream",
          "name": "stdout",
          "text": [
            "[ 8  8 10]\n",
            "[6 7 8]\n",
            "matrix is diagonally dominant\n"
          ]
        }
      ]
    },
    {
      "cell_type": "code",
      "source": [
        "import numpy as np\n",
        "x1 = 0\n",
        "x2 = 0\n",
        "x3 = 0\n",
        "epsilon = 0.01\n",
        "converged = False\n",
        "\n",
        "x_old = np.array([x1, x2, x3])\n",
        "\n",
        "print('Iteration results')\n",
        "print('k,   x1,      x2,      x3')\n",
        "for k in range(1, 50):\n",
        "  x1 = (14-3*x2+3*x3)/8\n",
        "  x2 = (5+2*x1-5*x3)/(-8)\n",
        "  x3 = (-8-3*x1-5*x2)/(10)\n",
        "  x = np.array([x1, x2, x3])\n",
        "  dx = np.sqrt(np.dot(x-x_old, x-x_old))\n",
        "\n",
        "  print(\"%d, %.4f, %.4f, %.4f\"%(k,x1,x2,x3))\n",
        "  if dx < epsilon:\n",
        "    converged = True\n",
        "    print('converged!')\n",
        "    break\n",
        "\n",
        "  x_old = x\n",
        "\n",
        "if not converged:\n",
        "  print('Not converged, increase the # of iteration')"
      ],
      "metadata": {
        "colab": {
          "base_uri": "https://localhost:8080/"
        },
        "id": "gxv6A5-7IZt1",
        "outputId": "e05d6b5f-9df9-4842-af8d-375043a9b84f"
      },
      "execution_count": null,
      "outputs": [
        {
          "output_type": "stream",
          "name": "stdout",
          "text": [
            "Iteration results\n",
            "k,   x1,      x2,      x3\n",
            "1, 1.7500, -1.0625, -0.7937\n",
            "2, 1.8508, -1.5838, -0.5633\n",
            "3, 2.1327, -1.5103, -0.6847\n",
            "4, 2.0596, -1.5678, -0.6340\n",
            "5, 2.1002, -1.5463, -0.6569\n",
            "6, 2.0835, -1.5565, -0.6468\n",
            "7, 2.0911, -1.5520, -0.6513\n",
            "converged!\n"
          ]
        }
      ]
    },
    {
      "cell_type": "code",
      "source": [
        "#Not diagonally dominant\n",
        "import numpy as np\n",
        "\n",
        "A = np.array([[4,3,-5], [-2,-4,5],[8,8,0]])\n",
        "y = np.array([2,5,-3])\n",
        "x = np.linalg.solve(A,y)\n",
        "print(x)\n",
        "\n",
        "#Matrix inversion approach\n",
        "A_inv = np.linalg.inv(A)\n",
        "x = np.dot(A_inv, y)\n",
        "print(x)"
      ],
      "metadata": {
        "colab": {
          "base_uri": "https://localhost:8080/"
        },
        "id": "Px0zS4nkMiaP",
        "outputId": "b43a2176-ac0a-431a-ab31-bb5d40a80d9e"
      },
      "execution_count": null,
      "outputs": [
        {
          "output_type": "stream",
          "name": "stdout",
          "text": [
            "[ 2.20833333 -2.58333333 -0.18333333]\n",
            "[ 2.20833333 -2.58333333 -0.18333333]\n"
          ]
        }
      ]
    },
    {
      "cell_type": "code",
      "source": [
        "import numpy as np\n",
        "from scipy import optimize\n",
        "import matplotlib.pyplot as plt\n",
        "\n",
        "plt.style.use('seaborn-poster')\n",
        "\n",
        "# generate x and y\n",
        "x = np.linspace(0,1,101)\n",
        "y = 1 + x + x * np.random.random(len(x))\n",
        "\n",
        "# assemble matrix A\n",
        "A = np.vstack([x, np.ones(len(x))]).T\n",
        "\n",
        "# turn y into a column vector\n",
        "y = y [:, np.newaxis]\n",
        "\n",
        "# direct least square regression\n",
        "\n",
        "alpha = np.dot((np.dot(np.linalg.inv(np.dot(A.T,A)), A.T)),y)\n",
        "print(alpha)"
      ],
      "metadata": {
        "colab": {
          "base_uri": "https://localhost:8080/"
        },
        "id": "OgTMSbCfQEwp",
        "outputId": "f92f563b-9b41-452d-df4a-50c56652c371"
      },
      "execution_count": null,
      "outputs": [
        {
          "output_type": "stream",
          "name": "stdout",
          "text": [
            "[[1.52073665]\n",
            " [0.97791065]]\n"
          ]
        }
      ]
    },
    {
      "cell_type": "code",
      "source": [
        "import numpy as np\n",
        "import matplotlib.pyplot as plt\n",
        "\n",
        "x = [0,1,2,3]\n",
        "y = [0,1,4,9]\n",
        "\n",
        "plt.plot(x,y)\n",
        "plt.show()"
      ],
      "metadata": {
        "id": "IvULBxv4S0gm"
      },
      "execution_count": null,
      "outputs": []
    }
  ]
}